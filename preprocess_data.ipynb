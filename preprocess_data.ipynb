{
 "cells": [
  {
   "cell_type": "code",
   "execution_count": 1,
   "id": "differential-closer",
   "metadata": {},
   "outputs": [],
   "source": [
    "import os\n",
    "import shutil\n",
    "import glob\n",
    "import pandas as pd\n",
    "import random\n",
    "import cv2"
   ]
  },
  {
   "cell_type": "code",
   "execution_count": 2,
   "id": "fifteen-damages",
   "metadata": {},
   "outputs": [],
   "source": [
    "# Set the environment \n",
    "set_path = \"/home/westray/Documents/Datasets/Original/SMD-Onshore\"\n",
    "targ_path = \"/home/westray/Documents/Datasets/Original/SMD-Onshore/outputdata/target\"\n",
    "frame_path = \"/home/westray/Documents/Datasets/Original/SMD-Onshore/inputdata/frames\"\n",
    "subset = \"MVI_1469_VIS\""
   ]
  },
  {
   "cell_type": "code",
   "execution_count": 3,
   "id": "abstract-integer",
   "metadata": {},
   "outputs": [],
   "source": [
    "# class name can't be numeric \n",
    "# class_dic = {3.0: \"boat1\", 4.0:\"boat2\"}\n",
    "class_dic = {1.0:\"ferry\", 2.0: \"buoy\", 3.0:\"vessel\",4.0:\"speedboat\", \n",
    "             5.0: \"boat\", 6.0:\"kayak\",7.0:\"sail\", 8.0: \"other\", 9.0:\"bird/plane\",10.0:\"other\", 0.0: \"other\"}\n"
   ]
  },
  {
   "cell_type": "code",
   "execution_count": null,
   "id": "fluid-jungle",
   "metadata": {},
   "outputs": [],
   "source": [
    "iminput = \"/home/westray/Documents/Datasets/Original/SMD-Onshore/outputdata/target\"\n",
    "data_dirs = {\n",
    "    \"smd\": iminput\n",
    "}\n",
    "root = set_path\n",
    "img_out_dir = \"/home/westray/Documents/Datasets/Preprocessed/SMD-TLT/images/\"\n",
    "labels_out_dir = \"/home/westray/Documents/Datasets/Preprocessed/SMD-TLT/labels/\"\n",
    "!rm -r $img_out_dir\n",
    "!rm -r $labels_out_dir\n",
    "!mkdir -p $img_out_dir\n",
    "!mkdir -p $labels_out_dir\n",
    "\n",
    "for dataset_name, root in data_dirs.items():\n",
    "#     annot_file = os.path.join(root, 'MVI_0799_VIS_OB.txt')\n",
    "    annot_list = glob.glob(os.path.join(root, \"*.txt\"))\n",
    "    annot_list = [os.path.join(targ_path, subset+\".txt\")]\n",
    "    for p in annot_list:\n",
    "        # Read binary annotations\n",
    "        annot_df = pd.read_csv(p, header=0) # index_col=None\n",
    "        annot_df.columns = ['path', 'xmin', 'ymin', 'xmax', 'ymax', 'class']\n",
    "        annot_df = annot_df.drop_duplicates()\n",
    "        # Format columns according to COCO format\n",
    "        coco = ['class', 'xmin', 'ymin', 'xmax', 'ymax']\n",
    "        for img_filename, annotations in annot_df.groupby('path'):\n",
    "            df = annotations[coco]\n",
    "            df_trans = df\n",
    "#             print(df)\n",
    "            img_name, img_ext = os.path.splitext(img_filename)\n",
    "    #         base_name = f\"{dataset_name}_{img_name}\"\n",
    "            annot_name = p.split(\"/\")[-1].split(\".\")[0]\n",
    "            img_out_path = os.path.join(img_out_dir, img_name.split(\"/\")[-1]+ annot_name +img_ext)\n",
    "            annot_out_path = os.path.join(labels_out_dir, img_name.split(\"/\")[-1] + annot_name+'.txt')\n",
    "            root = set_path\n",
    "            # Copy the image\n",
    "            img_src = os.path.join(root, img_filename)\n",
    "            im = cv2.imread(img_src)\n",
    "            im_shape = im.shape\n",
    "            df_trans.loc[:,'class'] = df.loc[:,'class']\n",
    "            df_trans.loc[:,'xmin'] = (df.loc[:,'xmin']+(df.loc[:,'xmax']-df.loc[:,'xmin'])/2)/im_shape[1]\n",
    "            df_trans.loc[:,'ymin'] = (df.loc[:,'ymin']+(df.loc[:,'ymax']-df.loc[:,'ymin'])/2)/im_shape[0]\n",
    "            df_trans.loc[:,'xmax'] = (df.loc[:,'xmax']-df.loc[:,'xmin'])/im_shape[1]\n",
    "            df_trans.loc[:,'ymax'] = (df.loc[:,'ymax']-df.loc[:,'ymin'])/im_shape[0]            \n",
    "#             try:\n",
    "            shutil.copyfile(img_src, img_out_path)\n",
    "            df_trans.to_csv(annot_out_path, header=False, index=False, sep=\" \")\n",
    "#             except Exception:\n",
    "#                 pass\n",
    "            # Create the annotations file\n",
    "        print(f\"Wrote KITTI dataset for original dataset {annot_name}.\")"
   ]
  },
  {
   "cell_type": "code",
   "execution_count": null,
   "id": "thorough-actress",
   "metadata": {},
   "outputs": [],
   "source": []
  }
 ],
 "metadata": {
  "kernelspec": {
   "display_name": "Python 3",
   "language": "python",
   "name": "python3"
  },
  "language_info": {
   "codemirror_mode": {
    "name": "ipython",
    "version": 3
   },
   "file_extension": ".py",
   "mimetype": "text/x-python",
   "name": "python",
   "nbconvert_exporter": "python",
   "pygments_lexer": "ipython3",
   "version": "3.9.2"
  }
 },
 "nbformat": 4,
 "nbformat_minor": 5
}
